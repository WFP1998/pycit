{
 "cells": [
  {
   "cell_type": "code",
   "execution_count": 1,
   "metadata": {
    "scrolled": true
   },
   "outputs": [],
   "source": [
    "from estimators import *\n",
    "from testers import IndependenceTest, ConditionalIndependenceTest\n",
    "\n",
    "%load_ext autoreload\n",
    "%autoreload 2"
   ]
  },
  {
   "cell_type": "markdown",
   "metadata": {},
   "source": [
    "# Example 1: Two Independent Variables"
   ]
  },
  {
   "cell_type": "code",
   "execution_count": 2,
   "metadata": {},
   "outputs": [
    {
     "output_type": "stream",
     "name": "stdout",
     "text": "CPU times: user 15 ms, sys: 16.5 ms, total: 31.4 ms\nWall time: 4.24 s\nBatch, declared independent: True, p-value: 0.30\n"
    }
   ],
   "source": [
    "x = np.random.normal(0, 1, size=1000)\n",
    "y = np.random.normal(0, 1, size=1000)\n",
    "\n",
    "tester = IndependenceTest(x, y, ksg_mi, statistic_args={\"k\":20})\n",
    "%time batch_pval = tester.test(1000, bootstrap_size=500, n_jobs=4)\n",
    "print (\"Batch, declared independent: %r, p-value: %0.2f\" % ((batch_pval>0.05), batch_pval))"
   ]
  },
  {
   "cell_type": "markdown",
   "metadata": {},
   "source": [
    "# Example 2: Two Dependent Variables"
   ]
  },
  {
   "cell_type": "code",
   "execution_count": 3,
   "metadata": {},
   "outputs": [
    {
     "output_type": "stream",
     "name": "stdout",
     "text": "CPU times: user 13.3 ms, sys: 16.6 ms, total: 29.9 ms\nWall time: 4.26 s\nBatch, declared independent: False, p-value: 0.00\n"
    }
   ],
   "source": [
    "x = np.random.normal(0, 1, size=1000)\n",
    "y = x + np.random.normal(0, 1, size=1000)\n",
    "\n",
    "tester = IndependenceTest(x, y, ksg_mi, statistic_args={\"k\":20})\n",
    "%time batch_pval = tester.test(1000, bootstrap_size=500, n_jobs=4)\n",
    "print (\"Batch, declared independent: %r, p-value: %0.2f\" % ((batch_pval>0.05), batch_pval))"
   ]
  },
  {
   "cell_type": "markdown",
   "metadata": {},
   "source": [
    "# Example 3: Two Conditionally Independent Variables"
   ]
  },
  {
   "cell_type": "code",
   "execution_count": 4,
   "metadata": {},
   "outputs": [
    {
     "output_type": "stream",
     "name": "stdout",
     "text": "CPU times: user 41 ms, sys: 23.7 ms, total: 64.7 ms\nWall time: 9.93 s\nBatch, declared independent: True, p-value: 0.95\n"
    }
   ],
   "source": [
    "# x -> z -> y\n",
    "x = np.random.normal(0, 1, size=1000)\n",
    "z = x + np.random.normal(0, 1, size=1000)\n",
    "y = z + np.random.normal(0, 1, size=1000)\n",
    "\n",
    "tester = ConditionalIndependenceTest(x, y, z, ksg_cmi, statistic_args={\"k\":20})\n",
    "%time batch_pval = tester.test(1000, bootstrap_size=None, n_jobs=4)\n",
    "print (\"Batch, declared independent: %r, p-value: %0.2f\" % ((batch_pval>0.05), batch_pval))\n",
    "del(tester)"
   ]
  },
  {
   "cell_type": "markdown",
   "metadata": {},
   "source": [
    "# Example 4: Two Conditionally Dependent Variables"
   ]
  },
  {
   "cell_type": "code",
   "execution_count": 5,
   "metadata": {
    "scrolled": true
   },
   "outputs": [
    {
     "output_type": "stream",
     "name": "stdout",
     "text": "CPU times: user 40 ms, sys: 21.1 ms, total: 61.1 ms\nWall time: 10.1 s\nBatch, declared independent: False, p-value: 0.00\n"
    }
   ],
   "source": [
    "# x -> z -> y\n",
    "#  \\____/\n",
    "x = np.random.normal(0, 1, size=1000)\n",
    "z = x + np.random.normal(0, 1, size=1000)\n",
    "y = 0.5*z +0.5*x + np.random.normal(0, 1, size=1000)\n",
    "\n",
    "tester = ConditionalIndependenceTest(x, y, z, ksg_cmi, statistic_args={\"k\":20})\n",
    "%time batch_pval = tester.test(1000, bootstrap_size=None, n_jobs=4)\n",
    "print (\"Batch, declared independent: %r, p-value: %0.2f\" % ((batch_pval>0.05), batch_pval))"
   ]
  },
  {
   "cell_type": "code",
   "execution_count": null,
   "metadata": {},
   "outputs": [],
   "source": []
  }
 ],
 "metadata": {
  "kernelspec": {
   "display_name": "Python 3.7.7 64-bit",
   "language": "python",
   "name": "python37764bite25f6d4e0dd545498a57c86f8e21ed12"
  },
  "language_info": {
   "codemirror_mode": {
    "name": "ipython",
    "version": 3
   },
   "file_extension": ".py",
   "mimetype": "text/x-python",
   "name": "python",
   "nbconvert_exporter": "python",
   "pygments_lexer": "ipython3",
   "version": "3.7.7-final"
  }
 },
 "nbformat": 4,
 "nbformat_minor": 2
}