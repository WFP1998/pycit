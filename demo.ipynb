{
 "cells": [
  {
   "cell_type": "code",
   "execution_count": 1,
   "metadata": {
    "scrolled": true
   },
   "outputs": [],
   "source": [
    "from pycit import citest, itest\n",
    "import numpy as np\n",
    "\n",
    "%load_ext autoreload\n",
    "%autoreload 2"
   ]
  },
  {
   "cell_type": "markdown",
   "metadata": {},
   "source": [
    "# Example 1: Two Independent Variables"
   ]
  },
  {
   "cell_type": "code",
   "execution_count": 2,
   "metadata": {},
   "outputs": [
    {
     "output_type": "stream",
     "name": "stdout",
     "text": "CPU times: user 33.5 ms, sys: 21.1 ms, total: 54.6 ms\nWall time: 4.78 s\nDeclared independent: True, p-value: 0.234\n"
    }
   ],
   "source": [
    "x = np.random.normal(0, 1, size=1000)\n",
    "y = np.random.normal(0, 1, size=1000)\n",
    "\n",
    "%time pval = itest(x, y, test_args={'n_jobs': 4})\n",
    "print (\"Declared independent: %r, p-value: %0.3f\" % ((pval>0.05), pval))"
   ]
  },
  {
   "cell_type": "markdown",
   "metadata": {},
   "source": [
    "# Example 2: Two Dependent Variables"
   ]
  },
  {
   "cell_type": "code",
   "execution_count": 3,
   "metadata": {},
   "outputs": [
    {
     "output_type": "stream",
     "name": "stdout",
     "text": "CPU times: user 32.1 ms, sys: 18.7 ms, total: 50.8 ms\nWall time: 4.78 s\nDeclared independent: False, p-value: 0.000\n"
    }
   ],
   "source": [
    "x = np.random.normal(0, 1, size=1000)\n",
    "y = x + np.random.normal(0, 1, size=1000)\n",
    "\n",
    "%time pval = itest(x, y, test_args={'n_jobs': 4})\n",
    "print (\"Declared independent: %r, p-value: %0.3f\" % ((pval>0.05), pval))"
   ]
  },
  {
   "cell_type": "markdown",
   "metadata": {},
   "source": [
    "# Example 3: Two Conditionally Independent Variables"
   ]
  },
  {
   "cell_type": "code",
   "execution_count": 4,
   "metadata": {},
   "outputs": [
    {
     "output_type": "stream",
     "name": "stdout",
     "text": "CPU times: user 45.2 ms, sys: 20.6 ms, total: 65.8 ms\nWall time: 11.9 s\nDeclared conditionally independent: True, p-value: 0.600\n"
    }
   ],
   "source": [
    "# x -> z -> y\n",
    "x = np.random.normal(0, 1, size=1000)\n",
    "z = x + np.random.normal(0, 1, size=1000)\n",
    "y = z + np.random.normal(0, 1, size=1000)\n",
    "\n",
    "%time pval = citest(x, y, z, test_args={'n_jobs': 4})\n",
    "print (\"Declared conditionally independent: %r, p-value: %0.3f\" % ((pval>0.05), pval))"
   ]
  },
  {
   "cell_type": "markdown",
   "metadata": {},
   "source": [
    "# Example 4: Two Conditionally Dependent Variables"
   ]
  },
  {
   "cell_type": "code",
   "execution_count": 5,
   "metadata": {
    "scrolled": true
   },
   "outputs": [
    {
     "output_type": "stream",
     "name": "stdout",
     "text": "CPU times: user 49.4 ms, sys: 23 ms, total: 72.3 ms\nWall time: 12.8 s\nDeclared conditionally independent: False, p-value: 0.000\n"
    }
   ],
   "source": [
    "# x -> z -> y\n",
    "#  \\____/\n",
    "x = np.random.normal(0, 1, size=1000)\n",
    "z = x + np.random.normal(0, 1, size=1000)\n",
    "y = 0.5*z +0.5*x + np.random.normal(0, 1, size=1000)\n",
    "\n",
    "%time pval = citest(x, y, z, test_args={'n_jobs': 4})\n",
    "print (\"Declared conditionally independent: %r, p-value: %0.3f\" % ((pval>0.05), pval))"
   ]
  },
  {
   "cell_type": "code",
   "execution_count": null,
   "metadata": {},
   "outputs": [],
   "source": []
  }
 ],
 "metadata": {
  "kernelspec": {
   "display_name": "Python 3.7.7 64-bit",
   "language": "python",
   "name": "python37764bite25f6d4e0dd545498a57c86f8e21ed12"
  },
  "language_info": {
   "codemirror_mode": {
    "name": "ipython",
    "version": 3
   },
   "file_extension": ".py",
   "mimetype": "text/x-python",
   "name": "python",
   "nbconvert_exporter": "python",
   "pygments_lexer": "ipython3",
   "version": "3.7.7-final"
  }
 },
 "nbformat": 4,
 "nbformat_minor": 2
}