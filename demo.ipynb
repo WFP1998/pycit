{
 "cells": [
  {
   "cell_type": "code",
   "execution_count": 1,
   "metadata": {
    "scrolled": true
   },
   "outputs": [],
   "source": [
    "from estimators import *\n",
    "from testers import IndependenceTest, ConditionalIndependenceTest\n",
    "\n",
    "%load_ext autoreload\n",
    "%autoreload 2"
   ]
  },
  {
   "cell_type": "markdown",
   "metadata": {},
   "source": [
    "# Example 1: Two Independent Variables"
   ]
  },
  {
   "cell_type": "code",
   "execution_count": 2,
   "metadata": {},
   "outputs": [
    {
     "output_type": "stream",
     "name": "stdout",
     "text": "CPU times: user 10.6 ms, sys: 14.7 ms, total: 25.3 ms\nWall time: 531 ms\nBatch, declared independent: True, p-value: 0.16\n"
    }
   ],
   "source": [
    "x = np.random.normal(0, 1, size=1000)\n",
    "y = np.random.normal(0, 1, size=1000)\n",
    "\n",
    "tester = IndependenceTest(x, y, ksg_mi, statistic_args={\"k\":20})\n",
    "%time batch_pval = tester.test(100, bootstrap_size=500, n_jobs=4)\n",
    "print (\"Batch, declared independent: %r, p-value: %0.2f\" % ((batch_pval>0.05), batch_pval))"
   ]
  },
  {
   "cell_type": "markdown",
   "metadata": {},
   "source": [
    "# Example 2: Two Dependent Variables"
   ]
  },
  {
   "cell_type": "code",
   "execution_count": 3,
   "metadata": {},
   "outputs": [
    {
     "output_type": "stream",
     "name": "stdout",
     "text": "CPU times: user 9.27 ms, sys: 13.2 ms, total: 22.5 ms\nWall time: 532 ms\nBatch, declared independent: False, p-value: 0.00\n"
    }
   ],
   "source": [
    "x = np.random.normal(0, 1, size=1000)\n",
    "y = x + np.random.normal(0, 1, size=1000)\n",
    "\n",
    "tester = IndependenceTest(x, y, ksg_mi, statistic_args={\"k\":20})\n",
    "%time batch_pval = tester.test(100, bootstrap_size=500, n_jobs=4)\n",
    "print (\"Batch, declared independent: %r, p-value: %0.2f\" % ((batch_pval>0.05), batch_pval))"
   ]
  },
  {
   "cell_type": "markdown",
   "metadata": {},
   "source": [
    "# Example 3: Two Conditionally Independent Variables"
   ]
  },
  {
   "cell_type": "code",
   "execution_count": 4,
   "metadata": {},
   "outputs": [
    {
     "output_type": "stream",
     "name": "stdout",
     "text": "CPU times: user 31.2 ms, sys: 18.2 ms, total: 49.4 ms\nWall time: 1.28 s\nBatch, declared independent: True, p-value: 0.98\n"
    }
   ],
   "source": [
    "# x -> z -> y\n",
    "x = np.random.normal(0, 1, size=1000)\n",
    "z = x + np.random.normal(0, 1, size=1000)\n",
    "y = z + np.random.normal(0, 1, size=1000)\n",
    "\n",
    "tester = ConditionalIndependenceTest(x, y, z, ksg_cmi, statistic_args={\"k\":20})\n",
    "%time batch_pval = tester.test(100, bootstrap_size=None, n_jobs=4)\n",
    "print (\"Batch, declared independent: %r, p-value: %0.2f\" % ((batch_pval>0.05), batch_pval))\n",
    "del(tester)"
   ]
  },
  {
   "cell_type": "markdown",
   "metadata": {},
   "source": [
    "# Example 4: Two Conditionally Dependent Variables"
   ]
  },
  {
   "cell_type": "code",
   "execution_count": 5,
   "metadata": {
    "scrolled": true
   },
   "outputs": [
    {
     "output_type": "stream",
     "name": "stdout",
     "text": "CPU times: user 33.7 ms, sys: 18.5 ms, total: 52.2 ms\nWall time: 1.29 s\nBatch, declared independent: False, p-value: 0.00\n"
    }
   ],
   "source": [
    "# x -> z -> y\n",
    "#  \\____/\n",
    "x = np.random.normal(0, 1, size=1000)\n",
    "z = x + np.random.normal(0, 1, size=1000)\n",
    "y = 0.5*z +0.5*x + np.random.normal(0, 1, size=1000)\n",
    "\n",
    "tester = ConditionalIndependenceTest(x, y, z, ksg_cmi, statistic_args={\"k\":20})\n",
    "%time batch_pval = tester.test(100, bootstrap_size=None, n_jobs=4)\n",
    "print (\"Batch, declared independent: %r, p-value: %0.2f\" % ((batch_pval>0.05), batch_pval))"
   ]
  },
  {
   "cell_type": "code",
   "execution_count": null,
   "metadata": {},
   "outputs": [],
   "source": []
  }
 ],
 "metadata": {
  "kernelspec": {
   "display_name": "Python 3.7.7 64-bit",
   "language": "python",
   "name": "python37764bite25f6d4e0dd545498a57c86f8e21ed12"
  },
  "language_info": {
   "codemirror_mode": {
    "name": "ipython",
    "version": 3
   },
   "file_extension": ".py",
   "mimetype": "text/x-python",
   "name": "python",
   "nbconvert_exporter": "python",
   "pygments_lexer": "ipython3",
   "version": "3.7.7-final"
  }
 },
 "nbformat": 4,
 "nbformat_minor": 2
}