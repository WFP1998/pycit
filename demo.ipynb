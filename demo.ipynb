{
 "cells": [
  {
   "cell_type": "code",
   "execution_count": 1,
   "metadata": {
    "scrolled": true
   },
   "outputs": [],
   "source": [
    "from test_statistics import ksgMI, ksgCMI\n",
    "from shuffle_tests import IndepTest, CondIndepTest\n",
    "from shuffle_tests.test_parallel import *\n",
    "\n",
    "%load_ext autoreload\n",
    "%autoreload 2"
   ]
  },
  {
   "cell_type": "markdown",
   "metadata": {},
   "source": [
    "# Example 1: Two Independent Variables"
   ]
  },
  {
   "cell_type": "code",
   "execution_count": 2,
   "metadata": {},
   "outputs": [
    {
     "name": "stdout",
     "output_type": "stream",
     "text": [
      "CPU times: user 18.9 ms, sys: 17.1 ms, total: 36 ms\n",
      "Wall time: 3.13 s\n",
      "Batch, declared independent: True, p-value: 0.68\n",
      "\n",
      "\n",
      "CPU times: user 17.3 ms, sys: 17.9 ms, total: 35.3 ms\n",
      "Wall time: 829 ms\n",
      "Resampled, declared independent: True, p-value: 0.44\n"
     ]
    }
   ],
   "source": [
    "x = np.random.normal(0, 1, size=1000)\n",
    "y = np.random.normal(0, 1, size=1000)\n",
    "\n",
    "tester = IndepTest(x, y, ksgMI, test_args={\"k\":100})\n",
    "%time batch_pval,_ = batch_job(tester, 1000, n_jobs=10)\n",
    "print (\"Batch, declared independent: %r, p-value: %0.2f\" % ((batch_pval>0.05), batch_pval))\n",
    "del(tester)\n",
    "\n",
    "tester = IndepTest(x, y, ksgMI, test_args={\"k\":20})\n",
    "print (\"\\n\")\n",
    "%time resampled_pval,_ = resample_job(tester, 1000, 200, n_jobs=10)\n",
    "print (\"Resampled, declared independent: %r, p-value: %0.2f\" % ((resampled_pval>0.05), resampled_pval))\n",
    "del(tester)"
   ]
  },
  {
   "cell_type": "markdown",
   "metadata": {},
   "source": [
    "# Example 2: Two Dependent Variables"
   ]
  },
  {
   "cell_type": "code",
   "execution_count": 3,
   "metadata": {},
   "outputs": [
    {
     "name": "stdout",
     "output_type": "stream",
     "text": [
      "CPU times: user 12.8 ms, sys: 22.4 ms, total: 35.2 ms\n",
      "Wall time: 3.13 s\n",
      "Batch, declared independent: False, p-value: 0.00\n",
      "\n",
      "\n",
      "CPU times: user 34.3 ms, sys: 19.9 ms, total: 54.2 ms\n",
      "Wall time: 847 ms\n",
      "Resampled, declared independent: False, p-value: 0.00\n"
     ]
    }
   ],
   "source": [
    "x = np.random.normal(0, 1, size=1000)\n",
    "y = x + np.random.normal(0, 1, size=1000)\n",
    "\n",
    "tester = IndepTest(x, y, ksgMI, test_args={\"k\":100})\n",
    "%time batch_pval,_ = batch_job(tester, 1000, n_jobs=10)\n",
    "print (\"Batch, declared independent: %r, p-value: %0.2f\" % ((batch_pval>0.05), batch_pval))\n",
    "del(tester)\n",
    "\n",
    "tester = IndepTest(x, y, ksgMI, test_args={\"k\":20})\n",
    "print (\"\\n\")\n",
    "%time resampled_pval,_ = resample_job(tester, 1000, 200, n_jobs=10)\n",
    "print (\"Resampled, declared independent: %r, p-value: %0.2f\" % ((resampled_pval>0.05), resampled_pval))\n",
    "del(tester)"
   ]
  },
  {
   "cell_type": "markdown",
   "metadata": {},
   "source": [
    "# Example 3: Two Conditionally Independent Variables"
   ]
  },
  {
   "cell_type": "code",
   "execution_count": 8,
   "metadata": {},
   "outputs": [
    {
     "name": "stdout",
     "output_type": "stream",
     "text": [
      "CPU times: user 22.9 ms, sys: 19.9 ms, total: 42.7 ms\n",
      "Wall time: 6.84 s\n",
      "Batch, declared independent: True, p-value: 0.90\n",
      "\n",
      "\n",
      "CPU times: user 26.1 ms, sys: 27.6 ms, total: 53.7 ms\n",
      "Wall time: 1.44 s\n",
      "Resampled, declared independent: True, p-value: 0.55\n"
     ]
    }
   ],
   "source": [
    "# x -> z -> y\n",
    "x = np.random.normal(0, 1, size=1000)\n",
    "z = x + np.random.normal(0, 1, size=1000)\n",
    "y = z + np.random.normal(0, 1, size=1000)\n",
    "\n",
    "tester = CondIndepTest(x, y, z, ksgCMI, test_args={\"k\":100})\n",
    "%time batch_pval,_ = batch_job(tester, 1000, n_jobs=10)\n",
    "print (\"Batch, declared independent: %r, p-value: %0.2f\" % ((batch_pval>0.05), batch_pval))\n",
    "del(tester)\n",
    "\n",
    "tester = CondIndepTest(x, y, z, ksgCMI, test_args={\"k\":20})\n",
    "print (\"\\n\")\n",
    "%time resampled_pval,_ = resample_job(tester, 1000, 200, n_jobs=10)\n",
    "print (\"Resampled, declared independent: %r, p-value: %0.2f\" % ((resampled_pval>0.05), resampled_pval))\n",
    "del(tester)"
   ]
  },
  {
   "cell_type": "markdown",
   "metadata": {},
   "source": [
    "# Example 4: Two Conditionally Dependent Variables"
   ]
  },
  {
   "cell_type": "code",
   "execution_count": 5,
   "metadata": {
    "scrolled": true
   },
   "outputs": [
    {
     "name": "stdout",
     "output_type": "stream",
     "text": [
      "CPU times: user 32.9 ms, sys: 14.7 ms, total: 47.6 ms\n",
      "Wall time: 6.75 s\n",
      "Batch, declared independent: False, p-value: 0.00\n",
      "\n",
      "\n",
      "CPU times: user 21.1 ms, sys: 48.4 ms, total: 69.5 ms\n",
      "Wall time: 1.35 s\n",
      "Resampled, declared independent: False, p-value: 0.01\n"
     ]
    }
   ],
   "source": [
    "# x -> z -> y\n",
    "#  \\____/\n",
    "x = np.random.normal(0, 1, size=1000)\n",
    "z = x + np.random.normal(0, 1, size=1000)\n",
    "y = 0.5*z +0.5*x + np.random.normal(0, 1, size=1000)\n",
    "\n",
    "tester = CondIndepTest(x, y, z, ksgCMI, test_args={\"k\":100})\n",
    "%time batch_pval,_ = batch_job(tester, 1000, n_jobs=10)\n",
    "print (\"Batch, declared independent: %r, p-value: %0.2f\" % ((batch_pval>0.05), batch_pval))\n",
    "del(tester)\n",
    "\n",
    "tester = CondIndepTest(x, y, z, ksgCMI, test_args={\"k\":20})\n",
    "print (\"\\n\")\n",
    "%time resampled_pval,_ = resample_job(tester, 1000, 200, n_jobs=10)\n",
    "print (\"Resampled, declared independent: %r, p-value: %0.2f\" % ((resampled_pval>0.05), resampled_pval))\n",
    "del(tester)"
   ]
  },
  {
   "cell_type": "code",
   "execution_count": null,
   "metadata": {},
   "outputs": [],
   "source": []
  }
 ],
 "metadata": {
  "kernelspec": {
   "display_name": "Python 3",
   "language": "python",
   "name": "python3"
  },
  "language_info": {
   "codemirror_mode": {
    "name": "ipython",
    "version": 3
   },
   "file_extension": ".py",
   "mimetype": "text/x-python",
   "name": "python",
   "nbconvert_exporter": "python",
   "pygments_lexer": "ipython3",
   "version": "3.7.1"
  }
 },
 "nbformat": 4,
 "nbformat_minor": 2
}
