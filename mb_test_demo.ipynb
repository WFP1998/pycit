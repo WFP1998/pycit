{
 "cells": [
  {
   "cell_type": "code",
   "execution_count": 1,
   "metadata": {},
   "outputs": [],
   "source": [
    "from pycit import citest, itest, MarkovBlanket, standardize, normalize\n",
    "from pycit.estimators import *\n",
    "import numpy as np\n",
    "import matplotlib.pyplot as plt\n",
    "\n",
    "from examples import gaussian_network, bullseye_network\n",
    "\n",
    "%load_ext autoreload\n",
    "%autoreload 2"
   ]
  },
  {
   "cell_type": "code",
   "execution_count": 2,
   "metadata": {},
   "outputs": [
    {
     "output_type": "stream",
     "name": "stdout",
     "text": "0.42\n1.0\n0.72\n"
    }
   ],
   "source": [
    "x_data, y_data = gaussian_network(8000, 1, std=1.0)\n",
    "x_data = standardize(x_data)\n",
    "y_data = standardize(y_data)\n",
    "\n",
    "k_knn = 5\n",
    "k_perm = 10\n",
    "sub_size = None\n",
    "n_trials = 200\n",
    "n_jobs = 10\n",
    "\n",
    "print(citest(x_data[:,:,1], y_data, x_data[:,:,[2,4]], statistic='ksg_cmi', statistic_args={'k': k_knn}, test_args={'k_perm': k_perm, 'subsample_size': sub_size, 'n_trials': n_trials, 'n_jobs': n_jobs}))\n",
    "\n",
    "print(citest(x_data[:,:,1], y_data, x_data[:,:,[2,4,5]], statistic='ksg_cmi', statistic_args={'k': k_knn}, test_args={'k_perm': k_perm, 'subsample_size': sub_size, 'n_trials': n_trials, 'n_jobs': n_jobs}))\n",
    "\n",
    "print(citest(x_data[:,:,1], y_data, x_data[:,:,[2,4,5,0]], statistic='ksg_cmi', statistic_args={'k': k_knn}, test_args={'k_perm': k_perm, 'subsample_size': sub_size, 'n_trials': n_trials, 'n_jobs': n_jobs}))"
   ]
  },
  {
   "cell_type": "code",
   "execution_count": null,
   "metadata": {},
   "outputs": [],
   "source": []
  },
  {
   "cell_type": "code",
   "execution_count": 3,
   "metadata": {},
   "outputs": [
    {
     "output_type": "stream",
     "name": "stdout",
     "text": "0.0\n0.59\n0.03\n0.055\n0.86\n"
    }
   ],
   "source": [
    "x_data, y_data = gaussian_network(8000, 1, std=1.0)\n",
    "x_data = standardize(x_data)\n",
    "y_data = standardize(y_data)\n",
    "\n",
    "k_knn = 5\n",
    "k_perm = 10\n",
    "sub_size = None\n",
    "n_trials = 200\n",
    "n_jobs = 10\n",
    "\n",
    "# dependent\n",
    "print(citest(x_data[:,:, 3], y_data, x_data[:,:, [2,]], statistic='ksg_cmi', statistic_args={'k': k_knn}, test_args={'k_perm': k_perm, 'subsample_size': sub_size, 'n_trials': n_trials, 'n_jobs': n_jobs}))\n",
    "\n",
    "# independent\n",
    "print(citest(x_data[:,:,3], y_data, x_data[:,:, [2,4]], statistic='ksg_cmi', statistic_args={'k': k_knn}, test_args={'k_perm': k_perm, 'subsample_size': sub_size, 'n_trials': n_trials, 'n_jobs': n_jobs}))\n",
    "\n",
    "# dependent\n",
    "print(citest(x_data[:,:,3], y_data, x_data[:,:,[2,4,5]], statistic='ksg_cmi', statistic_args={'k': k_knn}, test_args={'k_perm': k_perm, 'subsample_size': sub_size, 'n_trials': n_trials, 'n_jobs': n_jobs}))\n",
    "\n",
    "# independent\n",
    "print(citest(x_data[:,:,1], y_data, x_data[:,:,[2,4,5]], statistic='ksg_cmi', statistic_args={'k': k_knn}, test_args={'k_perm': k_perm, 'subsample_size': sub_size, 'n_trials': n_trials, 'n_jobs': n_jobs}))\n",
    "\n",
    "# independent\n",
    "print(citest(x_data[:,:,0], y_data, x_data[:,:,[2,4,5]], statistic='ksg_cmi', statistic_args={'k': k_knn}, test_args={'k_perm': k_perm, 'subsample_size': sub_size, 'n_trials': n_trials, 'n_jobs': n_jobs}))"
   ]
  },
  {
   "cell_type": "code",
   "execution_count": null,
   "metadata": {},
   "outputs": [],
   "source": []
  },
  {
   "cell_type": "code",
   "execution_count": 4,
   "metadata": {},
   "outputs": [
    {
     "output_type": "stream",
     "name": "stdout",
     "text": "==========Finding Adjacents...==========\nTesting X_{2}\n  Cond. set: ['X_{1}', 'X_{5}']\n    Is CI: True, pval: 0.665\nTesting X_{6}\n  Cond. set: ['X_{1}', 'X_{5}']\n    Is CI: False, pval: 0.000\n  Cond. set: ['X_{1}', 'X_{3}']\n    Is CI: False, pval: 0.000\n  Cond. set: ['X_{4}', 'X_{5}']\n    Is CI: False, pval: 0.000\n  Cond. set: ['X_{3}', 'X_{4}']\n    Is CI: False, pval: 0.000\n  Cond. set: ['X_{1}', 'X_{4}']\n    Is CI: False, pval: 0.000\n  Cond. set: ['X_{3}', 'X_{5}']\n    Is CI: False, pval: 0.000\nTesting X_{3}\n  Cond. set: ['X_{1}', 'X_{5}']\n    Is CI: False, pval: 0.000\n  Cond. set: ['X_{1}', 'X_{4}']\n    Is CI: False, pval: 0.000\n  Cond. set: ['X_{4}', 'X_{6}']\n    Is CI: False, pval: 0.000\n  Cond. set: ['X_{4}', 'X_{5}']\n    Is CI: False, pval: 0.000\n  Cond. set: ['X_{1}', 'X_{6}']\n    Is CI: False, pval: 0.000\n  Cond. set: ['X_{5}', 'X_{6}']\n    Is CI: False, pval: 0.000\nTesting X_{5}\n  Cond. set: ['X_{1}', 'X_{4}']\n    Is CI: False, pval: 0.000\n  Cond. set: ['X_{3}', 'X_{6}']\n    Is CI: False, pval: 0.000\n  Cond. set: ['X_{4}', 'X_{6}']\n    Is CI: False, pval: 0.000\n  Cond. set: ['X_{3}', 'X_{4}']\n    Is CI: False, pval: 0.000\n  Cond. set: ['X_{1}', 'X_{6}']\n    Is CI: False, pval: 0.000\n  Cond. set: ['X_{1}', 'X_{3}']\n    Is CI: False, pval: 0.000\nTesting X_{1}\n  Cond. set: ['X_{3}', 'X_{5}']\n    Is CI: True, pval: 0.890\nTesting X_{4}\n  Cond. set: ['X_{3}', 'X_{5}']\n    Is CI: True, pval: 0.215\nTesting X_{6}\nTesting X_{3}\nTesting X_{5}\nAdjacents found: ['X_{3}', 'X_{5}', 'X_{6}']\n==========Finding Coparents...==========\nTesting X_{1}\n    Is dependent: False, pval: 0.915\nTesting X_{4}\n    Is dependent: True, pval: 0.010\nTesting X_{2}\n    Is dependent: False, pval: 0.175\nDiscovered Markov blanket: ['X_{3}', 'X_{4}', 'X_{5}', 'X_{6}']\n"
    }
   ],
   "source": [
    "x_data, y_data = gaussian_network(8000, 1, std=1.0)\n",
    "x_data = standardize(x_data)\n",
    "y_data = standardize(y_data)\n",
    "\n",
    "cit_funcs = {\n",
    "    'it_args': {\n",
    "        'statistic_args': {\n",
    "            'k': 5\n",
    "        }, \n",
    "        'test_args': {\n",
    "            'statistic': 'mixed_mi', \n",
    "            'k_perm': 10,\n",
    "            'subsample_size': None, \n",
    "            'n_trials': 200, \n",
    "            'n_jobs': 10\n",
    "        }\n",
    "    },\n",
    "    'cit_args': {\n",
    "        'statistic_args': {\n",
    "            'k': 5\n",
    "        }, \n",
    "        'test_args': {\n",
    "            'statistic': 'mixed_cmi', \n",
    "            'k_perm': 10, \n",
    "            'subsample_size': None, \n",
    "            'n_trials': 200, \n",
    "            'n_jobs': 10\n",
    "        }\n",
    "    }\n",
    "}\n",
    "\n",
    "mb = MarkovBlanket(x_data, y_data, cit_funcs)\n",
    "selected = mb.find_markov_blanket(min_conditioning=2, max_conditioning=3, verbose=True)"
   ]
  },
  {
   "cell_type": "code",
   "execution_count": null,
   "metadata": {},
   "outputs": [],
   "source": []
  }
 ],
 "metadata": {
  "kernelspec": {
   "display_name": "Python 3",
   "language": "python",
   "name": "python3"
  },
  "language_info": {
   "codemirror_mode": {
    "name": "ipython",
    "version": 3
   },
   "file_extension": ".py",
   "mimetype": "text/x-python",
   "name": "python",
   "nbconvert_exporter": "python",
   "pygments_lexer": "ipython3",
   "version": "3.7.4-final"
  }
 },
 "nbformat": 4,
 "nbformat_minor": 2
}