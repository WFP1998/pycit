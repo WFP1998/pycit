{
 "cells": [
  {
   "cell_type": "code",
   "execution_count": 1,
   "metadata": {},
   "outputs": [],
   "source": [
    "from pycit import citest, itest, MarkovBlanket\n",
    "import numpy as np\n",
    "import matplotlib.pyplot as plt\n",
    "\n",
    "from examples import gaussian_network\n",
    "\n",
    "%load_ext autoreload\n",
    "%autoreload 2"
   ]
  },
  {
   "cell_type": "code",
   "execution_count": 2,
   "metadata": {},
   "outputs": [
    {
     "output_type": "stream",
     "name": "stdout",
     "text": "(1000, 1) (1000,) (1000, 5)\n0.132\n"
    }
   ],
   "source": [
    "x = np.random.randn(1000, 1)\n",
    "z = 0.5*(np.random.randn(1000, 5) + x)\n",
    "y = 0.5*(z.mean(axis=1) + np.random.randn(1000))\n",
    "\n",
    "print (x.shape, y.shape, z.shape)\n",
    "print (citest(x, y, z, statistic=\"mixed_cmi\", statistic_args={'k': 10}, test_args={'n_jobs': 4}))"
   ]
  },
  {
   "cell_type": "code",
   "execution_count": 4,
   "metadata": {},
   "outputs": [
    {
     "output_type": "execute_result",
     "data": {
      "text/plain": "0.75"
     },
     "metadata": {},
     "execution_count": 4
    }
   ],
   "source": [
    "# x_data, y_data = gaussian_network(5000, 1, std=0.5)\n",
    "citest(x_data[:,:,1], y_data, x_data[:,:,[2,4,5]], statistic=\"ksg_cmi\", statistic_args={'k': 10}, test_args={'bootstrap_size': None, 'n_trials': 100, 'n_jobs': 4})"
   ]
  },
  {
   "cell_type": "code",
   "execution_count": 5,
   "metadata": {},
   "outputs": [
    {
     "output_type": "stream",
     "name": "stdout",
     "text": "==========Finding Adjacents...==========\nTesting X_{2}\n  Cond. set: []\n    Is CI: False, pval: 0.000\nTesting X_{5}\n  Cond. set: []\n    Is CI: False, pval: 0.000\nTesting X_{1}\n  Cond. set: []\n    Is CI: False, pval: 0.000\nTesting X_{3}\n  Cond. set: []\n    Is CI: False, pval: 0.000\nTesting X_{4}\n  Cond. set: []\n    Is CI: False, pval: 0.000\nTesting X_{6}\n  Cond. set: []\n    Is CI: False, pval: 0.000\nTesting X_{2}\n  Cond. set: ['X_{5}']\n    Is CI: False, pval: 0.000\n  Cond. set: ['X_{1}']\n    Is CI: False, pval: 0.000\n  Cond. set: ['X_{3}']\n    Is CI: False, pval: 0.000\n  Cond. set: ['X_{4}']\n    Is CI: False, pval: 0.000\n  Cond. set: ['X_{6}']\n    Is CI: False, pval: 0.000\nTesting X_{5}\n  Cond. set: ['X_{2}']\n    Is CI: False, pval: 0.000\n  Cond. set: ['X_{1}']\n    Is CI: False, pval: 0.000\n  Cond. set: ['X_{3}']\n    Is CI: False, pval: 0.000\n  Cond. set: ['X_{4}']\n    Is CI: False, pval: 0.000\n  Cond. set: ['X_{6}']\n    Is CI: False, pval: 0.000\nTesting X_{1}\n  Cond. set: ['X_{2}']\n    Is CI: False, pval: 0.000\n  Cond. set: ['X_{5}']\n    Is CI: False, pval: 0.000\n  Cond. set: ['X_{3}']\n    Is CI: False, pval: 0.000\n  Cond. set: ['X_{4}']\n    Is CI: False, pval: 0.000\n  Cond. set: ['X_{6}']\n    Is CI: False, pval: 0.000\nTesting X_{3}\n  Cond. set: ['X_{2}']\n    Is CI: False, pval: 0.000\n  Cond. set: ['X_{5}']\n    Is CI: False, pval: 0.000\n  Cond. set: ['X_{1}']\n    Is CI: False, pval: 0.000\n  Cond. set: ['X_{4}']\n    Is CI: False, pval: 0.000\n  Cond. set: ['X_{6}']\n    Is CI: False, pval: 0.000\nTesting X_{4}\n  Cond. set: ['X_{2}']\n    Is CI: False, pval: 0.000\n  Cond. set: ['X_{5}']\n    Is CI: False, pval: 0.000\n  Cond. set: ['X_{1}']\n    Is CI: False, pval: 0.000\n  Cond. set: ['X_{3}']\n    Is CI: False, pval: 0.000\n  Cond. set: ['X_{6}']\n    Is CI: False, pval: 0.000\nTesting X_{6}\n  Cond. set: ['X_{2}']\n    Is CI: False, pval: 0.000\n  Cond. set: ['X_{5}']\n    Is CI: False, pval: 0.000\n  Cond. set: ['X_{1}']\n    Is CI: False, pval: 0.000\n  Cond. set: ['X_{3}']\n    Is CI: False, pval: 0.000\n  Cond. set: ['X_{4}']\n    Is CI: False, pval: 0.000\nTesting X_{2}\n  Cond. set: ['X_{5}', 'X_{1}']\n    Is CI: False, pval: 0.050\n  Cond. set: ['X_{5}', 'X_{3}']\n    Is CI: True, pval: 0.650\nTesting X_{5}\n  Cond. set: ['X_{1}', 'X_{3}']\n    Is CI: False, pval: 0.000\n  Cond. set: ['X_{1}', 'X_{4}']\n    Is CI: False, pval: 0.000\n  Cond. set: ['X_{1}', 'X_{6}']\n    Is CI: False, pval: 0.000\n  Cond. set: ['X_{3}', 'X_{4}']\n    Is CI: False, pval: 0.000\n  Cond. set: ['X_{3}', 'X_{6}']\n    Is CI: False, pval: 0.000\n  Cond. set: ['X_{4}', 'X_{6}']\n    Is CI: False, pval: 0.000\nTesting X_{1}\n  Cond. set: ['X_{5}', 'X_{3}']\n    Is CI: True, pval: 1.000\nTesting X_{3}\n  Cond. set: ['X_{5}', 'X_{4}']\n    Is CI: False, pval: 0.000\n  Cond. set: ['X_{5}', 'X_{6}']\n    Is CI: False, pval: 0.000\n  Cond. set: ['X_{4}', 'X_{6}']\n    Is CI: False, pval: 0.000\nTesting X_{4}\n  Cond. set: ['X_{5}', 'X_{3}']\n    Is CI: True, pval: 0.400\nTesting X_{6}\n  Cond. set: ['X_{5}', 'X_{3}']\n    Is CI: False, pval: 0.000\nTesting X_{5}\nTesting X_{3}\nTesting X_{6}\nAdjacents found: ['X_{5}', 'X_{3}', 'X_{6}']\n==========Finding Coparents...==========\nTesting X_{1}\n    Is dependent: False, pval: 1.000\nTesting X_{2}\n    Is dependent: False, pval: 0.350\nTesting X_{4}\n    Is dependent: True, pval: 0.000\nDiscovered Markov blanket: ['X_{3}', 'X_{4}', 'X_{5}', 'X_{6}']\n"
    }
   ],
   "source": [
    "x_data, y_data = gaussian_network(5000, 1, std=0.5)\n",
    "\n",
    "cit_funcs = {\n",
    "    'it_args': {'statistic_args': {'k': 10}, 'test_args': {'bootstrap_size': None, 'n_trials': 100, 'n_jobs': 5}},\n",
    "    'cit_args': {'statistic_args': {'k': 10}, 'test_args': {'bootstrap_size': None, 'n_trials': 100, 'n_jobs': 5}},\n",
    "}\n",
    "mb = MarkovBlanket(x_data, y_data, cit_funcs)\n",
    "selected = mb.find_markov_blanket(max_conditioning=3, verbose=True)"
   ]
  },
  {
   "cell_type": "code",
   "execution_count": null,
   "metadata": {},
   "outputs": [],
   "source": []
  },
  {
   "cell_type": "code",
   "execution_count": null,
   "metadata": {},
   "outputs": [],
   "source": []
  },
  {
   "cell_type": "code",
   "execution_count": 4,
   "metadata": {},
   "outputs": [
    {
     "output_type": "stream",
     "name": "stdout",
     "text": "==========Adjacents...==========\nTesting X_{3}\n  Cond. set: []\n    Is CI: False, pval: 0.000\nTesting X_{6}\n  Cond. set: []\n    Is CI: False, pval: 0.000\nTesting X_{2}\n  Cond. set: []\n    Is CI: False, pval: 0.000\nTesting X_{5}\n  Cond. set: []\n    Is CI: False, pval: 0.000\nTesting X_{4}\n  Cond. set: []\n    Is CI: False, pval: 0.000\nTesting X_{1}\n  Cond. set: []\n    Is CI: False, pval: 0.000\nTesting X_{3}\n  Cond. set: ['X_{6}']\n    Is CI: False, pval: 0.000\n  Cond. set: ['X_{2}']\n    Is CI: False, pval: 0.000\n  Cond. set: ['X_{5}']\n    Is CI: False, pval: 0.000\n  Cond. set: ['X_{4}']\n    Is CI: False, pval: 0.000\n  Cond. set: ['X_{1}']\n    Is CI: False, pval: 0.000\nTesting X_{6}\n  Cond. set: ['X_{3}']\n    Is CI: False, pval: 0.000\n  Cond. set: ['X_{2}']\n    Is CI: False, pval: 0.000\n  Cond. set: ['X_{5}']\n    Is CI: False, pval: 0.000\n  Cond. set: ['X_{4}']\n    Is CI: False, pval: 0.000\n  Cond. set: ['X_{1}']\n    Is CI: False, pval: 0.000\nTesting X_{2}\n  Cond. set: ['X_{3}']\n    Is CI: False, pval: 0.000\n  Cond. set: ['X_{6}']\n    Is CI: False, pval: 0.000\n  Cond. set: ['X_{5}']\n    Is CI: False, pval: 0.000\n  Cond. set: ['X_{4}']\n    Is CI: False, pval: 0.000\n  Cond. set: ['X_{1}']\n    Is CI: False, pval: 0.000\nTesting X_{5}\n  Cond. set: ['X_{3}']\n    Is CI: False, pval: 0.000\n  Cond. set: ['X_{6}']\n    Is CI: False, pval: 0.000\n  Cond. set: ['X_{2}']\n    Is CI: False, pval: 0.000\n  Cond. set: ['X_{4}']\n    Is CI: False, pval: 0.000\n  Cond. set: ['X_{1}']\n    Is CI: False, pval: 0.000\nTesting X_{4}\n  Cond. set: ['X_{3}']\n    Is CI: False, pval: 0.000\n  Cond. set: ['X_{6}']\n    Is CI: False, pval: 0.000\n  Cond. set: ['X_{2}']\n    Is CI: False, pval: 0.000\n  Cond. set: ['X_{5}']\n    Is CI: False, pval: 0.000\n  Cond. set: ['X_{1}']\n    Is CI: False, pval: 0.000\nTesting X_{1}\n  Cond. set: ['X_{3}']\n    Is CI: False, pval: 0.000\n  Cond. set: ['X_{6}']\n    Is CI: False, pval: 0.000\n  Cond. set: ['X_{2}']\n    Is CI: False, pval: 0.000\n  Cond. set: ['X_{5}']\n    Is CI: False, pval: 0.000\n  Cond. set: ['X_{4}']\n    Is CI: False, pval: 0.000\nTesting X_{3}\n  Cond. set: ['X_{6}', 'X_{2}']\n    Is CI: False, pval: 0.000\n  Cond. set: ['X_{6}', 'X_{5}']\n    Is CI: False, pval: 0.000\n  Cond. set: ['X_{6}', 'X_{4}']\n    Is CI: False, pval: 0.000\n  Cond. set: ['X_{6}', 'X_{1}']\n    Is CI: False, pval: 0.000\n  Cond. set: ['X_{2}', 'X_{5}']\n    Is CI: False, pval: 0.000\n  Cond. set: ['X_{2}', 'X_{4}']\n    Is CI: False, pval: 0.000\n  Cond. set: ['X_{2}', 'X_{1}']\n    Is CI: False, pval: 0.000\n  Cond. set: ['X_{5}', 'X_{4}']\n    Is CI: False, pval: 0.000\n  Cond. set: ['X_{5}', 'X_{1}']\n    Is CI: False, pval: 0.000\n  Cond. set: ['X_{4}', 'X_{1}']\n    Is CI: False, pval: 0.000\nTesting X_{6}\n  Cond. set: ['X_{3}', 'X_{2}']\n    Is CI: False, pval: 0.000\n  Cond. set: ['X_{3}', 'X_{5}']\n    Is CI: False, pval: 0.000\n  Cond. set: ['X_{3}', 'X_{4}']\n    Is CI: False, pval: 0.000\n  Cond. set: ['X_{3}', 'X_{1}']\n    Is CI: False, pval: 0.000\n  Cond. set: ['X_{2}', 'X_{5}']\n    Is CI: False, pval: 0.000\n  Cond. set: ['X_{2}', 'X_{4}']\n    Is CI: False, pval: 0.000\n  Cond. set: ['X_{2}', 'X_{1}']\n    Is CI: False, pval: 0.000\n  Cond. set: ['X_{5}', 'X_{4}']\n    Is CI: False, pval: 0.000\n  Cond. set: ['X_{5}', 'X_{1}']\n    Is CI: False, pval: 0.000\n  Cond. set: ['X_{4}', 'X_{1}']\n    Is CI: False, pval: 0.000\nTesting X_{2}\n  Cond. set: ['X_{3}', 'X_{6}']\n    Is CI: False, pval: 0.000\n  Cond. set: ['X_{3}', 'X_{5}']\n    Is CI: False, pval: 0.000\n  Cond. set: ['X_{3}', 'X_{4}']\n    Is CI: False, pval: 0.000\n  Cond. set: ['X_{3}', 'X_{1}']\n    Is CI: False, pval: 0.000\n  Cond. set: ['X_{6}', 'X_{5}']\n    Is CI: False, pval: 0.000\n  Cond. set: ['X_{6}', 'X_{4}']\n    Is CI: True, pval: 1.000\nTesting X_{5}\n  Cond. set: ['X_{3}', 'X_{6}']\n    Is CI: True, pval: 1.000\nTesting X_{4}\n  Cond. set: ['X_{3}', 'X_{6}']\n    Is CI: False, pval: 0.000\n  Cond. set: ['X_{3}', 'X_{1}']\n    Is CI: False, pval: 0.000\n  Cond. set: ['X_{6}', 'X_{1}']\n    Is CI: False, pval: 0.010\nTesting X_{1}\n  Cond. set: ['X_{3}', 'X_{6}']\n    Is CI: False, pval: 0.000\n  Cond. set: ['X_{3}', 'X_{4}']\n    Is CI: False, pval: 0.000\n  Cond. set: ['X_{6}', 'X_{4}']\n    Is CI: False, pval: 0.000\nTesting X_{3}\n  Cond. set: ['X_{6}', 'X_{4}', 'X_{1}']\n    Is CI: False, pval: 0.000\nTesting X_{6}\n  Cond. set: ['X_{3}', 'X_{4}', 'X_{1}']\n    Is CI: False, pval: 0.000\nTesting X_{4}\n  Cond. set: ['X_{3}', 'X_{6}', 'X_{1}']\n    Is CI: False, pval: 0.000\nTesting X_{1}\n  Cond. set: ['X_{3}', 'X_{6}', 'X_{4}']\n    Is CI: False, pval: 0.000\nAdjacents found: ['X_{3}', 'X_{6}', 'X_{4}', 'X_{1}']\n==========Finding Coparents...==========\nY X_{2} CI | ['X_{1}', 'X_{3}', 'X_{4}', 'X_{6}'], p-val: 0.11\nY X_{5} CI | ['X_{1}', 'X_{3}', 'X_{4}', 'X_{6}'], p-val: 1.00\n"
    }
   ],
   "source": [
    "from examples import bullseye_network\n",
    "\n",
    "r_data, x_data, y_data = bullseye_network(1000, 2, eps=0.075)\n",
    "\n",
    "cit_funcs = {\n",
    "    'it_args': {'test_args': {'n_trials': 100, 'n_jobs': 1}},\n",
    "    'cit_args': {'test_args': {'n_trials': 100, 'n_jobs': 1}},\n",
    "}\n",
    "mb = MarkovBlanket(r_data, y_data, cit_funcs)\n",
    "selected = mb.find_markov_blanket(max_conditioning=3, verbose=True)"
   ]
  },
  {
   "cell_type": "code",
   "execution_count": null,
   "metadata": {},
   "outputs": [],
   "source": []
  }
 ],
 "metadata": {
  "language_info": {
   "codemirror_mode": {
    "name": "ipython",
    "version": 3
   },
   "file_extension": ".py",
   "mimetype": "text/x-python",
   "name": "python",
   "nbconvert_exporter": "python",
   "pygments_lexer": "ipython3",
   "version": "3.7.7-final"
  },
  "orig_nbformat": 2,
  "kernelspec": {
   "name": "python37764bite25f6d4e0dd545498a57c86f8e21ed12",
   "display_name": "Python 3.7.7 64-bit"
  }
 },
 "nbformat": 4,
 "nbformat_minor": 2
}