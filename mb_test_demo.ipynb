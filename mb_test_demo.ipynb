{
 "cells": [
  {
   "cell_type": "code",
   "execution_count": 1,
   "metadata": {},
   "outputs": [],
   "source": [
    "from pycit import citest, itest, MarkovBlanket, standardize, normalize\n",
    "import numpy as np\n",
    "import matplotlib.pyplot as plt\n",
    "\n",
    "from examples import gaussian_network, bullseye_network\n",
    "\n",
    "%load_ext autoreload\n",
    "%autoreload 2"
   ]
  },
  {
   "cell_type": "code",
   "execution_count": 27,
   "metadata": {},
   "outputs": [
    {
     "output_type": "stream",
     "name": "stdout",
     "text": "0.0\n"
    }
   ],
   "source": [
    "w = np.random.randn(2000)\n",
    "x = w + np.random.randn(2000)\n",
    "y = w + np.random.randn(2000)\n",
    "z = (x + y).reshape(2000,1) + np.random.randn(2000, 5)\n",
    "\n",
    "print(citest(x,y,np.concatenate([w.reshape(-1,1),z], axis=1), statistic='ksg_cmi', statistic_args={'k': 10}, test_args={'bootstrap_size': None, 'n_trials': 200, 'n_jobs': 5}))"
   ]
  },
  {
   "cell_type": "code",
   "execution_count": 10,
   "metadata": {},
   "outputs": [
    {
     "output_type": "stream",
     "name": "stdout",
     "text": "0.9933333333333333\n0.98\n0.6166666666666667\n"
    }
   ],
   "source": [
    "x_data, y_data = gaussian_network(3000, 1, std=1.0)\n",
    "x_data = standardize(x_data)\n",
    "y_data = standardize(y_data)\n",
    "\n",
    "print(citest(x_data[:,:,1], y_data, x_data[:,:,[2,4]], statistic='mixed_cmi', statistic_args={'k': 3}, test_args={'k_perm': 5, 'bootstrap_size': None, 'n_trials': 300, 'n_jobs': 5}))\n",
    "\n",
    "print(citest(x_data[:,:,1], y_data, x_data[:,:,[2,4,5]], statistic='mixed_cmi', statistic_args={'k': 3}, test_args={'k_perm': 5, 'bootstrap_size': None, 'n_trials': 300, 'n_jobs': 5}))\n",
    "\n",
    "print(citest(x_data[:,:,1], y_data, x_data[:,:,[2,4,5,0]], statistic='mixed_cmi', statistic_args={'k': 3}, test_args={'k_perm': 5, 'bootstrap_size': None, 'n_trials': 300, 'n_jobs': 5}))"
   ]
  },
  {
   "cell_type": "code",
   "execution_count": null,
   "metadata": {},
   "outputs": [],
   "source": []
  },
  {
   "cell_type": "code",
   "execution_count": 5,
   "metadata": {},
   "outputs": [
    {
     "output_type": "stream",
     "name": "stdout",
     "text": "0.019\n0.878\n0.0\n0.47\n0.91\n----\n0.016\n0.876\n0.0\n0.455\n0.915\n"
    }
   ],
   "source": [
    "x_data, y_data = gaussian_network(3000, 1, std=1.0)\n",
    "x_data = standardize(x_data)\n",
    "y_data = standardize(y_data)\n",
    "\n",
    "# dependent\n",
    "print(citest(x_data[:,:, 3], y_data, x_data[:,:, [2,]], statistic='mixed_cmi', statistic_args={'k': 5}, test_args={'k_perm': 5, 'bootstrap_size': None, 'n_trials': 1000, 'n_jobs': 5}))\n",
    "\n",
    "# independent\n",
    "print(citest(x_data[:,:,3], y_data, x_data[:,:, [2,4]], statistic='mixed_cmi', statistic_args={'k': 5}, test_args={'k_perm': 5, 'bootstrap_size': None, 'n_trials': 1000, 'n_jobs': 5}))\n",
    "\n",
    "# dependent\n",
    "print(citest(x_data[:,:,3], y_data, x_data[:,:,[2,4,5]], statistic='mixed_cmi', statistic_args={'k': 5}, test_args={'k_perm': 5, 'bootstrap_size': None, 'n_trials': 1000, 'n_jobs': 5}))\n",
    "\n",
    "# independent\n",
    "print(citest(x_data[:,:,1], y_data, x_data[:,:,[2,4,5]], statistic='mixed_cmi', statistic_args={'k': 5}, test_args={'k_perm': 5, 'bootstrap_size': None, 'n_trials': 1000, 'n_jobs': 5}))\n",
    "\n",
    "# independent\n",
    "print(citest(x_data[:,:,0], y_data, x_data[:,:,[2,4,5]], statistic='mixed_cmi', statistic_args={'k': 5}, test_args={'k_perm': 5, 'bootstrap_size': None, 'n_trials': 1000, 'n_jobs': 5}))\n",
    "\n",
    "print (\"----\")\n",
    "\n",
    "# dependent\n",
    "print(citest(x_data[:,:, 3], y_data, x_data[:,:, [2,]], statistic='ksg_cmi', statistic_args={'k': 5}, test_args={'k_perm': 5, 'bootstrap_size': None, 'n_trials': 1000, 'n_jobs': 5}))\n",
    "\n",
    "# independent\n",
    "print(citest(x_data[:,:,3], y_data, x_data[:,:, [2,4]], statistic='ksg_cmi', statistic_args={'k': 5}, test_args={'k_perm': 5, 'bootstrap_size': None, 'n_trials': 1000, 'n_jobs': 5}))\n",
    "\n",
    "# dependent\n",
    "print(citest(x_data[:,:,3], y_data, x_data[:,:,[2,4,5]], statistic='ksg_cmi', statistic_args={'k': 5}, test_args={'k_perm': 5, 'bootstrap_size': None, 'n_trials': 1000, 'n_jobs': 5}))\n",
    "\n",
    "# independent\n",
    "print(citest(x_data[:,:,1], y_data, x_data[:,:,[2,4,5]], statistic='ksg_cmi', statistic_args={'k': 5}, test_args={'k_perm': 5, 'bootstrap_size': None, 'n_trials': 1000, 'n_jobs': 5}))\n",
    "\n",
    "# independent\n",
    "print(citest(x_data[:,:,0], y_data, x_data[:,:,[2,4,5]], statistic='ksg_cmi', statistic_args={'k': 5}, test_args={'k_perm': 5, 'bootstrap_size': None, 'n_trials': 1000, 'n_jobs': 5}))"
   ]
  },
  {
   "cell_type": "code",
   "execution_count": null,
   "metadata": {},
   "outputs": [],
   "source": []
  },
  {
   "cell_type": "code",
   "execution_count": 6,
   "metadata": {},
   "outputs": [
    {
     "output_type": "stream",
     "name": "stdout",
     "text": "==========Finding Adjacents...==========\nTesting X_{5}\n  Cond. set: ['X_{3}', 'X_{6}']\n    Is CI: False, pval: 0.000\n  Cond. set: ['X_{1}', 'X_{3}']\n    Is CI: False, pval: 0.000\n  Cond. set: ['X_{4}', 'X_{6}']\n    Is CI: False, pval: 0.000\n  Cond. set: ['X_{1}', 'X_{4}']\n    Is CI: False, pval: 0.000\n  Cond. set: ['X_{2}', 'X_{6}']\n    Is CI: False, pval: 0.000\n  Cond. set: ['X_{1}', 'X_{6}']\n    Is CI: False, pval: 0.000\n  Cond. set: ['X_{1}', 'X_{2}']\n    Is CI: False, pval: 0.000\n  Cond. set: ['X_{2}', 'X_{3}']\n    Is CI: False, pval: 0.000\n  Cond. set: ['X_{3}', 'X_{4}']\n    Is CI: False, pval: 0.000\n  Cond. set: ['X_{2}', 'X_{4}']\n    Is CI: False, pval: 0.000\nTesting X_{3}\n  Cond. set: ['X_{5}', 'X_{6}']\n    Is CI: False, pval: 0.000\n  Cond. set: ['X_{1}', 'X_{2}']\n    Is CI: False, pval: 0.000\n  Cond. set: ['X_{2}', 'X_{4}']\n    Is CI: False, pval: 0.000\n  Cond. set: ['X_{1}', 'X_{4}']\n    Is CI: False, pval: 0.000\n  Cond. set: ['X_{1}', 'X_{5}']\n    Is CI: False, pval: 0.000\n  Cond. set: ['X_{4}', 'X_{5}']\n    Is CI: False, pval: 0.000\n  Cond. set: ['X_{2}', 'X_{6}']\n    Is CI: False, pval: 0.000\n  Cond. set: ['X_{1}', 'X_{6}']\n    Is CI: False, pval: 0.000\n  Cond. set: ['X_{4}', 'X_{6}']\n    Is CI: False, pval: 0.000\n  Cond. set: ['X_{2}', 'X_{5}']\n    Is CI: False, pval: 0.000\nTesting X_{1}\n  Cond. set: ['X_{4}', 'X_{6}']\n    Is CI: False, pval: 0.000\n  Cond. set: ['X_{2}', 'X_{5}']\n    Is CI: False, pval: 0.000\n  Cond. set: ['X_{2}', 'X_{3}']\n    Is CI: True, pval: 0.210\nTesting X_{2}\n  Cond. set: ['X_{4}', 'X_{5}']\n    Is CI: True, pval: 0.917\nTesting X_{4}\n  Cond. set: ['X_{3}', 'X_{6}']\n    Is CI: False, pval: 0.001\n  Cond. set: ['X_{3}', 'X_{5}']\n    Is CI: True, pval: 0.245\nTesting X_{6}\n  Cond. set: ['X_{3}', 'X_{5}']\n    Is CI: False, pval: 0.000\nTesting X_{5}\nTesting X_{3}\nTesting X_{6}\nAdjacents found: ['X_{5}', 'X_{3}', 'X_{6}']\n==========Finding Coparents...==========\nTesting X_{1}\n    Is dependent: False, pval: 0.996\nTesting X_{2}\n    Is dependent: False, pval: 0.313\nTesting X_{4}\n    Is dependent: True, pval: 0.048\nDiscovered Markov blanket: ['X_{3}', 'X_{4}', 'X_{5}', 'X_{6}']\n"
    }
   ],
   "source": [
    "x_data, y_data = gaussian_network(3000, 1, std=1.0)\n",
    "x_data = normalize(x_data)\n",
    "y_data = normalize(y_data)\n",
    "\n",
    "cit_funcs = {\n",
    "    'it_args': {\n",
    "        'statistic_args': {\n",
    "            'k': 5\n",
    "        }, \n",
    "        'test_args': {\n",
    "            'statistic': 'ksg_mi', \n",
    "            'k_perm': 5, \n",
    "            'bootstrap_size': None, \n",
    "            'n_trials': 1000, \n",
    "            'n_jobs': 5\n",
    "        }\n",
    "    },\n",
    "    'cit_args': {\n",
    "        'statistic_args': {\n",
    "            'k': 5\n",
    "        }, \n",
    "        'test_args': {\n",
    "            'statistic': 'ksg_cmi', \n",
    "            'k_perm': 5, \n",
    "            'bootstrap_size': None, \n",
    "            'n_trials': 1000, \n",
    "            'n_jobs': 5\n",
    "        }\n",
    "    }\n",
    "}\n",
    "\n",
    "mb = MarkovBlanket(x_data, y_data, cit_funcs)\n",
    "selected = mb.find_markov_blanket(min_conditioning=2, max_conditioning=3, verbose=True)"
   ]
  },
  {
   "cell_type": "code",
   "execution_count": null,
   "metadata": {},
   "outputs": [],
   "source": []
  },
  {
   "cell_type": "code",
   "execution_count": 6,
   "metadata": {},
   "outputs": [
    {
     "output_type": "stream",
     "name": "stdout",
     "text": "==========Finding Adjacents...==========\nTesting X_{1}\n  Cond. set: []\n    Is CI: False, pval: 0.000\nTesting X_{5}\n  Cond. set: []\n    Is CI: False, pval: 0.000\nTesting X_{6}\n  Cond. set: []\n    Is CI: False, pval: 0.000\nTesting X_{3}\n  Cond. set: []\n    Is CI: False, pval: 0.000\nTesting X_{4}\n  Cond. set: []\n    Is CI: False, pval: 0.000\nTesting X_{2}\n  Cond. set: []\n    Is CI: False, pval: 0.000\nTesting X_{1}\n  Cond. set: ['X_{5}']\n    Is CI: False, pval: 0.000\n  Cond. set: ['X_{6}']\n    Is CI: False, pval: 0.000\n  Cond. set: ['X_{3}']\n    Is CI: False, pval: 0.000\n  Cond. set: ['X_{4}']\n    Is CI: False, pval: 0.000\n  Cond. set: ['X_{2}']\n    Is CI: False, pval: 0.000\nTesting X_{5}\n  Cond. set: ['X_{1}']\n    Is CI: False, pval: 0.000\n  Cond. set: ['X_{6}']\n    Is CI: False, pval: 0.000\n  Cond. set: ['X_{3}']\n    Is CI: False, pval: 0.000\n  Cond. set: ['X_{4}']\n    Is CI: False, pval: 0.000\n  Cond. set: ['X_{2}']\n    Is CI: False, pval: 0.000\nTesting X_{6}\n  Cond. set: ['X_{1}']\n    Is CI: False, pval: 0.000\n  Cond. set: ['X_{5}']\n    Is CI: False, pval: 0.000\n  Cond. set: ['X_{3}']\n    Is CI: False, pval: 0.000\n  Cond. set: ['X_{4}']\n    Is CI: False, pval: 0.000\n  Cond. set: ['X_{2}']\n    Is CI: False, pval: 0.000\nTesting X_{3}\n  Cond. set: ['X_{1}']\n    Is CI: False, pval: 0.000\n  Cond. set: ['X_{5}']\n    Is CI: False, pval: 0.000\n  Cond. set: ['X_{6}']\n    Is CI: False, pval: 0.000\n  Cond. set: ['X_{4}']\n    Is CI: False, pval: 0.000\n  Cond. set: ['X_{2}']\n    Is CI: False, pval: 0.000\nTesting X_{4}\n  Cond. set: ['X_{1}']\n    Is CI: False, pval: 0.000\n  Cond. set: ['X_{5}']\n    Is CI: False, pval: 0.000\n  Cond. set: ['X_{6}']\n    Is CI: False, pval: 0.000\n  Cond. set: ['X_{3}']\n    Is CI: False, pval: 0.000\n  Cond. set: ['X_{2}']\n    Is CI: False, pval: 0.000\nTesting X_{2}\n  Cond. set: ['X_{1}']\n    Is CI: False, pval: 0.000\n  Cond. set: ['X_{5}']\n    Is CI: False, pval: 0.000\n  Cond. set: ['X_{6}']\n    Is CI: False, pval: 0.000\n  Cond. set: ['X_{3}']\n    Is CI: False, pval: 0.000\n  Cond. set: ['X_{4}']\n    Is CI: False, pval: 0.000\nTesting X_{1}\n  Cond. set: ['X_{5}', 'X_{6}']\n    Is CI: True, pval: 0.100\nTesting X_{5}\n  Cond. set: ['X_{6}', 'X_{3}']\n    Is CI: False, pval: 0.000\n  Cond. set: ['X_{6}', 'X_{4}']\n    Is CI: False, pval: 0.000\n  Cond. set: ['X_{6}', 'X_{2}']\n    Is CI: False, pval: 0.000\n  Cond. set: ['X_{3}', 'X_{4}']\n    Is CI: False, pval: 0.000\n  Cond. set: ['X_{3}', 'X_{2}']\n    Is CI: False, pval: 0.000\n  Cond. set: ['X_{4}', 'X_{2}']\n    Is CI: False, pval: 0.000\nTesting X_{6}\n  Cond. set: ['X_{5}', 'X_{3}']\n    Is CI: False, pval: 0.000\n  Cond. set: ['X_{5}', 'X_{4}']\n    Is CI: False, pval: 0.000\n  Cond. set: ['X_{5}', 'X_{2}']\n    Is CI: False, pval: 0.000\n  Cond. set: ['X_{3}', 'X_{4}']\n    Is CI: False, pval: 0.000\n  Cond. set: ['X_{3}', 'X_{2}']\n    Is CI: False, pval: 0.000\n  Cond. set: ['X_{4}', 'X_{2}']\n    Is CI: False, pval: 0.000\nTesting X_{3}\n  Cond. set: ['X_{5}', 'X_{6}']\n    Is CI: False, pval: 0.000\n  Cond. set: ['X_{5}', 'X_{4}']\n    Is CI: False, pval: 0.000\n  Cond. set: ['X_{5}', 'X_{2}']\n    Is CI: False, pval: 0.000\n  Cond. set: ['X_{6}', 'X_{4}']\n    Is CI: False, pval: 0.000\n  Cond. set: ['X_{6}', 'X_{2}']\n    Is CI: False, pval: 0.000\n  Cond. set: ['X_{4}', 'X_{2}']\n    Is CI: False, pval: 0.000\nTesting X_{4}\n  Cond. set: ['X_{5}', 'X_{6}']\n    Is CI: False, pval: 0.000\n  Cond. set: ['X_{5}', 'X_{3}']\n    Is CI: True, pval: 0.550\nTesting X_{2}\n  Cond. set: ['X_{5}', 'X_{6}']\n    Is CI: True, pval: 0.100\nTesting X_{5}\nTesting X_{6}\nTesting X_{3}\nAdjacents found: ['X_{5}', 'X_{6}', 'X_{3}']\n==========Finding Coparents...==========\nTesting X_{1}\n    Is dependent: False, pval: 0.150\nTesting X_{2}\n    Is dependent: True, pval: 0.000\nTesting X_{4}\n    Is dependent: True, pval: 0.000\nDiscovered Markov blanket: ['X_{2}', 'X_{3}', 'X_{4}', 'X_{5}', 'X_{6}']\n"
    }
   ],
   "source": [
    "r_data, x_data, y_data = bullseye_network(2000, 2, eps=0.075)\n",
    "\n",
    "cit_funcs = {\n",
    "    'it_args': {'statistic_args': {'k': 10}, 'test_args': {'bootstrap_size': None, 'n_trials': 100, 'n_jobs': 5}},\n",
    "    'cit_args': {'statistic_args': {'k': 10}, 'test_args': {'bootstrap_size': None, 'n_trials': 100, 'n_jobs': 5}},\n",
    "}\n",
    "mb = MarkovBlanket(r_data, y_data, cit_funcs)\n",
    "selected = mb.find_markov_blanket(max_conditioning=3, verbose=True)"
   ]
  },
  {
   "cell_type": "code",
   "execution_count": null,
   "metadata": {},
   "outputs": [],
   "source": []
  }
 ],
 "metadata": {
  "language_info": {
   "codemirror_mode": {
    "name": "ipython",
    "version": 3
   },
   "file_extension": ".py",
   "mimetype": "text/x-python",
   "name": "python",
   "nbconvert_exporter": "python",
   "pygments_lexer": "ipython3",
   "version": "3.7.7-final"
  },
  "orig_nbformat": 2,
  "kernelspec": {
   "name": "python37764bite25f6d4e0dd545498a57c86f8e21ed12",
   "display_name": "Python 3.7.7 64-bit"
  }
 },
 "nbformat": 4,
 "nbformat_minor": 2
}